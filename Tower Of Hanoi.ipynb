{
 "cells": [
  {
   "cell_type": "markdown",
   "id": "91d264e7",
   "metadata": {},
   "source": [
    "Input:\n",
    "\n",
    "N = 2\n",
    "\n",
    "Output:\n",
    "\n",
    "move disk 1 from rod 1 to rod 2\n",
    "\n",
    "move disk 2 from rod 1 to rod 3\n",
    "\n",
    "move disk 1 from rod 2 to rod 3\n",
    "\n",
    "3\n",
    "\n",
    "Explanation: For N=2 , steps will be\n",
    "as follows in the example and total\n",
    "3 steps will be taken."
   ]
  },
  {
   "cell_type": "code",
   "execution_count": 6,
   "id": "6f338987",
   "metadata": {},
   "outputs": [
    {
     "name": "stdout",
     "output_type": "stream",
     "text": [
      "enter the number : 4\n",
      "move disk 1 from rod 1 to rod 2\n",
      "move disk 2 from rod 1 to rod 3\n",
      "move disk 1 from rod 2 to rod 3\n",
      "move disk 3 from rod 1 to rod 2\n",
      "move disk 1 from rod 3 to rod 1\n",
      "move disk 2 from rod 3 to rod 2\n",
      "move disk 1 from rod 1 to rod 2\n",
      "move disk 4 from rod 1 to rod 3\n",
      "move disk 1 from rod 2 to rod 3\n",
      "move disk 2 from rod 2 to rod 1\n",
      "move disk 1 from rod 3 to rod 1\n",
      "move disk 3 from rod 2 to rod 3\n",
      "move disk 1 from rod 1 to rod 2\n",
      "move disk 2 from rod 1 to rod 3\n",
      "move disk 1 from rod 2 to rod 3\n"
     ]
    },
    {
     "data": {
      "text/plain": [
       "15"
      ]
     },
     "execution_count": 6,
     "metadata": {},
     "output_type": "execute_result"
    }
   ],
   "source": [
    "class Solution:\n",
    "    def countMoves(self,N):\n",
    "        if N==0:\n",
    "            return 0\n",
    "        return 2*self.countMoves(N-1)+1\n",
    "       \n",
    "    def toh(self, N, fromm, to, aux):\n",
    "       # Your code here\n",
    "        if N==0:\n",
    "            return \n",
    "        self.toh(N-1,fromm,aux,to)\n",
    "        print(\"move disk\",N,\"from rod\",fromm,\"to rod\",to)\n",
    "        self.toh(N-1,aux,to,fromm)\n",
    "        return self.countMoves(N)\n",
    "    \n",
    "    \n",
    "N=int(input(\"enter the number : \"))\n",
    "\n",
    "obj=Solution()\n",
    "obj.toh(N, 1, 3, 2)\n",
    "obj.countMoves(N)"
   ]
  },
  {
   "cell_type": "code",
   "execution_count": null,
   "id": "4e6c48aa",
   "metadata": {},
   "outputs": [],
   "source": []
  }
 ],
 "metadata": {
  "kernelspec": {
   "display_name": "Python 3 (ipykernel)",
   "language": "python",
   "name": "python3"
  },
  "language_info": {
   "codemirror_mode": {
    "name": "ipython",
    "version": 3
   },
   "file_extension": ".py",
   "mimetype": "text/x-python",
   "name": "python",
   "nbconvert_exporter": "python",
   "pygments_lexer": "ipython3",
   "version": "3.9.12"
  }
 },
 "nbformat": 4,
 "nbformat_minor": 5
}
