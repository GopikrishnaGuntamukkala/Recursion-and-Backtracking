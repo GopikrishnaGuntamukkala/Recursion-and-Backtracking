{
 "cells": [
  {
   "cell_type": "markdown",
   "id": "399e39c2",
   "metadata": {},
   "source": [
    "Consider a rat placed at (0, 0) in a square matrix of order N * N. It has to reach the destination at (N - 1, N - 1). Find all possible paths that the rat can take to reach from source to destination. The directions in which the rat can move are 'U'(up), 'D'(down), 'L' (left), 'R' (right). Value 0 at a cell in the matrix represents that it is blocked and rat cannot move to it while value 1 at a cell in the matrix represents that rat can be travel through it.\n",
    "\n",
    "Note: In a path, no cell can be visited more than one time. If the source cell is 0, the rat cannot move to any other cell.\n",
    "\n",
    "Example 1:\n",
    "\n",
    "Input:\n",
    "N = 4\n",
    "\n",
    "m[][] = {{1, 0, 0, 0},\n",
    "        \n",
    "         {1, 1, 0, 1}, \n",
    "         \n",
    "         {1, 1, 0, 0},\n",
    "         \n",
    "         {0, 1, 1, 1}}\n",
    "\n",
    "Output:\n",
    "\n",
    "    DDRDRR DRDDRR\n",
    "\n",
    "Explanation:\n",
    "The rat can reach the destination at \n",
    "(3, 3) from (0, 0) by two paths - DRDDRR \n",
    "and DDRDRR, when printed in sorted order \n",
    "we get DDRDRR DRDDRR.\n",
    "\n",
    "Example 2:\n",
    "\n",
    "Input:\n",
    "N = 2\n",
    "\n",
    "m[][] = {{1, 0},\n",
    "\n",
    "         {1, 0}}\n",
    "\n",
    "Output:\n",
    "\n",
    "-1\n",
    "\n",
    "Explanation:\n",
    "No path exists and destination cell is \n",
    "blocked."
   ]
  },
  {
   "cell_type": "code",
   "execution_count": 4,
   "id": "04fb84ae",
   "metadata": {},
   "outputs": [
    {
     "data": {
      "text/plain": [
       "['DRDDRR', 'DDRDRR']"
      ]
     },
     "execution_count": 4,
     "metadata": {},
     "output_type": "execute_result"
    }
   ],
   "source": [
    "class Solution:\n",
    "    def findPath(self, m, n):\n",
    "        visited=[[0]*n for i in range(n)]\n",
    "        ans=[]\n",
    "        def dfs(i,j,s):\n",
    "            if i<0 or j<0 or i>n-1 or j>n-1:\n",
    "                return\n",
    "            if m[i][j]==0 or visited[i][j]==1:\n",
    "                return\n",
    "            if i==n-1 and j==n-1:\n",
    "                ans.append(s)\n",
    "                return\n",
    "            \n",
    "            visited[i][j]=1\n",
    "            \n",
    "            dfs(i  , j+1, s+\"R\")\n",
    "            dfs(i+1, j  , s+\"D\")\n",
    "            dfs(i  , j-1, s+\"L\")\n",
    "            dfs(i-1, j,   s+\"U\")\n",
    "            \n",
    "            visited[i][j]=0\n",
    "        \n",
    "        if m[0][0]==0 or m[n-1][n-1]==0:\n",
    "            return ans\n",
    "        dfs(0,0,\"\")\n",
    "        return ans\n",
    "\n",
    "n = 4\n",
    "m = [[1, 0, 0, 0],[1, 1, 0, 1], [1, 1, 0, 0],[0, 1, 1, 1]]\n",
    "\n",
    "obj = Solution()\n",
    "obj.findPath(m,n)"
   ]
  },
  {
   "cell_type": "code",
   "execution_count": null,
   "id": "0934ece9",
   "metadata": {},
   "outputs": [],
   "source": []
  }
 ],
 "metadata": {
  "kernelspec": {
   "display_name": "Python 3 (ipykernel)",
   "language": "python",
   "name": "python3"
  },
  "language_info": {
   "codemirror_mode": {
    "name": "ipython",
    "version": 3
   },
   "file_extension": ".py",
   "mimetype": "text/x-python",
   "name": "python",
   "nbconvert_exporter": "python",
   "pygments_lexer": "ipython3",
   "version": "3.9.12"
  }
 },
 "nbformat": 4,
 "nbformat_minor": 5
}
