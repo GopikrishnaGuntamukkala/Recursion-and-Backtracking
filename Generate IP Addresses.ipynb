{
 "cells": [
  {
   "cell_type": "markdown",
   "id": "42f1b63e",
   "metadata": {},
   "source": [
    "Given a string S containing only digits, Your task is to complete the function genIp() which returns a vector containing all possible combinations of valid IPv4 IP addresses and takes only a string S as its only argument.\n",
    "\n",
    "Note: Order doesn't matter.\n",
    "\n",
    "For string 11211 the IP address possible are \n",
    "\n",
    "1.1.2.11\n",
    "\n",
    "1.1.21.1\n",
    "\n",
    "1.12.1.1\n",
    "\n",
    "11.2.1.1"
   ]
  },
  {
   "cell_type": "code",
   "execution_count": 2,
   "id": "7b54b652",
   "metadata": {},
   "outputs": [
    {
     "data": {
      "text/plain": [
       "['1.1.1.1']"
      ]
     },
     "execution_count": 2,
     "metadata": {},
     "output_type": "execute_result"
    }
   ],
   "source": [
    "\n",
    "class Solution:\n",
    "\n",
    "    def genIp(self, s):\n",
    "\n",
    "        #Code here\n",
    "\n",
    "        if len(s)<4 or len(s)>12:\n",
    "\n",
    "            return []\n",
    "\n",
    "        ans = []\n",
    "\n",
    "        ssf = ''\n",
    "\n",
    "        idx = 0\n",
    "\n",
    "        self.solve(s, ans, ssf, idx, 3)\n",
    "\n",
    "        return ans if len(ans) else []\n",
    "\n",
    "    def solve(self,s, ans, ssf, idx, dots):\n",
    "\n",
    "        if len(s) == 0:\n",
    "\n",
    "            return\n",
    "\n",
    "        if dots == 0:\n",
    "\n",
    "            temp = ssf.split('.')\n",
    "\n",
    "            temp.pop()\n",
    "\n",
    "            temp.append(s)\n",
    "\n",
    "            if all(x[0] != '0' for x in temp if len(x) > 1):\n",
    "\n",
    "                if all(0 <= int(x) <= 255 for x in temp):\n",
    "\n",
    "                    res = '.'.join(temp)\n",
    "\n",
    "                    ans.append(res)\n",
    "\n",
    "            return\n",
    "\n",
    "        for i in range(len(s)):\n",
    "\n",
    "            temp = s[0:i + 1]\n",
    "\n",
    "            temp = temp + '.'\n",
    "\n",
    "            self.solve(s[i + 1:], ans, ssf + temp, idx, dots - 1)\n",
    "\n",
    " \n",
    "s = '1111'\n",
    "\n",
    "\n",
    "obj = Solution()\n",
    "obj.genIp(s)\n",
    "\n"
   ]
  },
  {
   "cell_type": "code",
   "execution_count": null,
   "id": "a95ee7a4",
   "metadata": {},
   "outputs": [],
   "source": []
  }
 ],
 "metadata": {
  "kernelspec": {
   "display_name": "Python 3 (ipykernel)",
   "language": "python",
   "name": "python3"
  },
  "language_info": {
   "codemirror_mode": {
    "name": "ipython",
    "version": 3
   },
   "file_extension": ".py",
   "mimetype": "text/x-python",
   "name": "python",
   "nbconvert_exporter": "python",
   "pygments_lexer": "ipython3",
   "version": "3.9.12"
  }
 },
 "nbformat": 4,
 "nbformat_minor": 5
}
