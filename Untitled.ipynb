{
 "cells": [
  {
   "cell_type": "code",
   "execution_count": null,
   "id": "99d88df7",
   "metadata": {},
   "outputs": [],
   "source": []
  },
  {
   "cell_type": "code",
   "execution_count": 9,
   "id": "2ee1de16",
   "metadata": {},
   "outputs": [
    {
     "name": "stdout",
     "output_type": "stream",
     "text": [
      "gksfoegk\n"
     ]
    }
   ],
   "source": [
    "\n",
    "class Solution:\n",
    "    def remove (self, S):\n",
    "        i = 0\n",
    "        n = len(S)\n",
    "        q = []\n",
    "        while i < n:\n",
    "            j = i\n",
    "            while j < n and S[j] == S[i]:\n",
    "                j += 1\n",
    "            if j-i == 1:\n",
    "                q.append(S[i])\n",
    "            i = j\n",
    "        s = \"\".join(q)\n",
    "        return self.remove(s) if len(s) < len(S) else s\n",
    "    \n",
    "    \n",
    "S = 'geeksfoegeek'\n",
    "obj = Solution()\n",
    "print(obj.remove(S))"
   ]
  },
  {
   "cell_type": "code",
   "execution_count": null,
   "id": "f3016ce3",
   "metadata": {},
   "outputs": [],
   "source": []
  }
 ],
 "metadata": {
  "kernelspec": {
   "display_name": "Python 3 (ipykernel)",
   "language": "python",
   "name": "python3"
  },
  "language_info": {
   "codemirror_mode": {
    "name": "ipython",
    "version": 3
   },
   "file_extension": ".py",
   "mimetype": "text/x-python",
   "name": "python",
   "nbconvert_exporter": "python",
   "pygments_lexer": "ipython3",
   "version": "3.9.12"
  }
 },
 "nbformat": 4,
 "nbformat_minor": 5
}
