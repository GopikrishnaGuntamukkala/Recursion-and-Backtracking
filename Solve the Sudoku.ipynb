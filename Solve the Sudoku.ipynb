{
 "cells": [
  {
   "cell_type": "markdown",
   "id": "8afc34d5",
   "metadata": {},
   "source": [
    "Given an incomplete Sudoku configuration in terms of a 9 x 9  2-D square matrix (grid[][]), the task to find a solved Sudoku. For simplicity, you may assume that there will be only one unique solution.\n",
    "\n",
    "Sample Sudoku for you to get the logic for its solution:\n",
    "\n",
    "\n",
    "\n",
    "\n",
    "Example 1:\n",
    "\n",
    "Input:\n",
    "grid[][] = \n",
    "\n",
    "[[3 0 6 5 0 8 4 0 0],\n",
    "\n",
    " [5 2 0 0 0 0 0 0 0],\n",
    "\n",
    " [0 8 7 0 0 0 0 3 1 ],\n",
    "\n",
    " [0 0 3 0 1 0 0 8 0],\n",
    "\n",
    " [9 0 0 8 6 3 0 0 5],\n",
    "\n",
    " [0 5 0 0 9 0 6 0 0],\n",
    "\n",
    " [1 3 0 0 0 0 2 5 0],\n",
    "\n",
    " [0 0 0 0 0 0 0 7 4],\n",
    "\n",
    " [0 0 5 2 0 6 3 0 0]]\n",
    "\n",
    "Output:\n",
    "\n",
    "    3 1 6 5 7 8 4 9 2\n",
    "\n",
    "    5 2 9 1 3 4 7 6 8\n",
    "\n",
    "    4 8 7 6 2 9 5 3 1\n",
    "\n",
    "    2 6 3 4 1 5 9 8 7\n",
    "\n",
    "    9 7 4 8 6 3 1 2 5\n",
    "\n",
    "    8 5 1 7 9 2 6 4 3\n",
    "\n",
    "    1 3 8 9 4 7 2 5 6\n",
    "\n",
    "    6 9 2 3 5 1 8 7 4\n",
    "\n",
    "    7 4 5 2 8 6 3 1 9\n"
   ]
  },
  {
   "cell_type": "code",
   "execution_count": 15,
   "id": "0f3ecfbc",
   "metadata": {},
   "outputs": [
    {
     "name": "stdout",
     "output_type": "stream",
     "text": [
      "3 1 6 5 7 8 4 9 2 \n",
      "5 2 9 1 3 4 7 6 8 \n",
      "4 8 7 6 2 9 5 3 1 \n",
      "2 6 3 4 1 5 9 8 7 \n",
      "9 7 4 8 6 3 1 2 5 \n",
      "8 5 1 7 9 2 6 4 3 \n",
      "1 3 8 9 4 7 2 5 6 \n",
      "6 9 2 3 5 1 8 7 4 \n",
      "7 4 5 2 8 6 3 1 9 \n"
     ]
    }
   ],
   "source": [
    "class Solution:\n",
    "    \n",
    "    #Function to find a solved Sudoku. \n",
    "    def SolveSudoku(self,grid):\n",
    "        \n",
    "        # approach \n",
    "        # we make a validator func which checks if a value is valid given a partialyy filled grid.\n",
    "        # we then traverse row by row and go to next row if we reach past the last column of the current row.\n",
    "        # we backtrack and return true if we reach past the last row\n",
    "        # if a value is already present, we skip that column and go to the next column \n",
    "        # if a given value is safe (as validated by validator func), we assign that value to that position\n",
    "        \n",
    "        def is_safe(grid,num,i,j):\n",
    "            for index in range(9):\n",
    "                if grid[i][index]==num: #checking if same number present in the same row\n",
    "                    return False\n",
    "                if grid[index][j]==num:\n",
    "                    return False # checking if same number present in same column\n",
    "            # checking in 3 by 3 submatrix\n",
    "            sub_row=(i//3)*3 # to get sub range of rows in multiples of 3\n",
    "            sub_col=(j//3)*3 # to get sub range of columns in multiples of 3\n",
    "            for s_row in range(sub_row,sub_row+3):\n",
    "                for s_col in range(sub_col,sub_col+3):\n",
    "                    if grid[s_row][s_col]==num:\n",
    "                        return False\n",
    "            return True\n",
    "            \n",
    "        def traverse(grid,i,j):\n",
    "            if i==9 : # if past last row, return True\n",
    "                return True\n",
    "            if j==9: # if past last column, go to next row and start from 0th column\n",
    "                return traverse(grid,i+1,0)\n",
    "            if grid[i][j]!=0:\n",
    "                return traverse(grid,i,j+1) # if an element is already present, skip that cell and move on to next one\n",
    "            for num in range(1,10):\n",
    "                if is_safe(grid,num,i,j):\n",
    "                    grid[i][j]=num\n",
    "                    if traverse(grid,i,j+1)==True: # returning true if upon backtracking, next value gives true\n",
    "                        return True\n",
    "                        \n",
    "                    else: \n",
    "                        grid[i][j]=0 # erasing values of this try if not successful\n",
    "            return False # returning false on backtracking if not successful\n",
    "            \n",
    "        \n",
    "        \n",
    "         \n",
    "                \n",
    "        return traverse(grid,0,0) # calling traverse function\n",
    "        \n",
    "    def printGrid(self,arr): # func to print values in grid\n",
    "        for i in range(len(arr)):\n",
    "            for j in range(len(arr[0])):\n",
    "                print(arr[i][j], end = \" \")\n",
    "            print()\n",
    "                \n",
    "grid = [[3 ,0, 6, 5, 0, 8, 4, 0, 0],\n",
    "[5, 2, 0, 0, 0, 0, 0, 0, 0],\n",
    "[0 ,8 ,7 ,0 ,0 ,0 ,0 ,3 ,1 ],\n",
    "[0 ,0 ,3 ,0 ,1, 0 ,0, 8, 0],\n",
    "[9 ,0 ,0, 8, 6 ,3, 0 ,0 ,5],\n",
    "[0 ,5 ,0 ,0, 9 ,0, 6 ,0, 0],\n",
    "[1 ,3 ,0 ,0 ,0 ,0, 2 ,5, 0],\n",
    "[0 ,0 ,0 ,0 ,0 ,0 ,0 ,7 ,4],\n",
    "[0 ,0, 5 ,2, 0 ,6, 3 ,0, 0]]\n",
    "\n",
    "obj = Solution()\n",
    "obj.SolveSudoku(grid)\n",
    "\n",
    "\n",
    "\n",
    "obj.printGrid(grid)"
   ]
  },
  {
   "cell_type": "code",
   "execution_count": 14,
   "id": "9142ef51",
   "metadata": {},
   "outputs": [
    {
     "data": {
      "text/plain": [
       "True"
      ]
     },
     "execution_count": 14,
     "metadata": {},
     "output_type": "execute_result"
    }
   ],
   "source": [
    "obj = Solution()\n",
    "obj.SolveSudoku(grid)"
   ]
  },
  {
   "cell_type": "code",
   "execution_count": null,
   "id": "387e1708",
   "metadata": {},
   "outputs": [],
   "source": []
  }
 ],
 "metadata": {
  "kernelspec": {
   "display_name": "Python 3 (ipykernel)",
   "language": "python",
   "name": "python3"
  },
  "language_info": {
   "codemirror_mode": {
    "name": "ipython",
    "version": 3
   },
   "file_extension": ".py",
   "mimetype": "text/x-python",
   "name": "python",
   "nbconvert_exporter": "python",
   "pygments_lexer": "ipython3",
   "version": "3.9.12"
  }
 },
 "nbformat": 4,
 "nbformat_minor": 5
}
