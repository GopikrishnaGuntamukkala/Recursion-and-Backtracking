{
 "cells": [
  {
   "cell_type": "markdown",
   "id": "ebd2265e",
   "metadata": {},
   "source": [
    "Given a string S. The task is to print all permutations of a given string in lexicographically sorted order.\n",
    "\n",
    " \n",
    "\n",
    "Example 1:\n",
    "\n",
    "Input: ABC\n",
    "\n",
    "Output:\n",
    "\n",
    "ABC ACB BAC BCA CAB CBA\n",
    "\n",
    "Explanation:\n",
    "\n",
    "Given string ABC has permutations in 6 \n",
    "forms as ABC, ACB, BAC, BCA, CAB and CBA .\n",
    "\n",
    "Example 2:\n",
    "\n",
    "Input: ABSG\n",
    "\n",
    "Output:\n",
    "\n",
    "ABGS ABSG AGBS AGSB ASBG ASGB BAGS \n",
    "\n",
    "BASG BGAS BGSA BSAG BSGA GABS GASB \n",
    "\n",
    "GBAS GBSA GSAB GSBA SABG SAGB SBAG \n",
    "\n",
    "SBGA SGAB SGBA\n",
    "\n",
    "Explanation:\n",
    "Given string ABSG has 24 permutations."
   ]
  },
  {
   "cell_type": "code",
   "execution_count": 5,
   "id": "27e81433",
   "metadata": {},
   "outputs": [
    {
     "data": {
      "text/plain": [
       "['ABGS',\n",
       " 'ABSG',\n",
       " 'AGBS',\n",
       " 'AGSB',\n",
       " 'ASBG',\n",
       " 'ASGB',\n",
       " 'BAGS',\n",
       " 'BASG',\n",
       " 'BGAS',\n",
       " 'BGSA',\n",
       " 'BSAG',\n",
       " 'BSGA',\n",
       " 'GABS',\n",
       " 'GASB',\n",
       " 'GBAS',\n",
       " 'GBSA',\n",
       " 'GSAB',\n",
       " 'GSBA',\n",
       " 'SABG',\n",
       " 'SAGB',\n",
       " 'SBAG',\n",
       " 'SBGA',\n",
       " 'SGAB',\n",
       " 'SGBA']"
      ]
     },
     "execution_count": 5,
     "metadata": {},
     "output_type": "execute_result"
    }
   ],
   "source": [
    "class Solution:\n",
    "    def find_permutation(self, S):\n",
    "        # Code here\n",
    "        \n",
    "        if len(S)==0:\n",
    "            return []\n",
    "        elif len(S)==1: return [S]\n",
    "        l = []\n",
    "        for i in range(len(S)):\n",
    "            x = S[i]\n",
    "            xs = S[:i]+S[i+1:]\n",
    "            for p in self.find_permutation(xs):\n",
    "                if x+p not in l:\n",
    "                    l.append(x+p)\n",
    "        l.sort()\n",
    "        return l\n",
    "    \n",
    "S = \"ABSG\"\n",
    "\n",
    "obj = Solution()\n",
    "obj.find_permutation(S)\n"
   ]
  },
  {
   "cell_type": "code",
   "execution_count": null,
   "id": "f9fea6dc",
   "metadata": {},
   "outputs": [],
   "source": []
  }
 ],
 "metadata": {
  "kernelspec": {
   "display_name": "Python 3 (ipykernel)",
   "language": "python",
   "name": "python3"
  },
  "language_info": {
   "codemirror_mode": {
    "name": "ipython",
    "version": 3
   },
   "file_extension": ".py",
   "mimetype": "text/x-python",
   "name": "python",
   "nbconvert_exporter": "python",
   "pygments_lexer": "ipython3",
   "version": "3.9.12"
  }
 },
 "nbformat": 4,
 "nbformat_minor": 5
}
