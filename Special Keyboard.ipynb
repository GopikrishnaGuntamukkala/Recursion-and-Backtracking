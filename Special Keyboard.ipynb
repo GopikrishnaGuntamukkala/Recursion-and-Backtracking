{
 "cells": [
  {
   "cell_type": "markdown",
   "id": "f11d19c5",
   "metadata": {},
   "source": [
    "Imagine you have a special keyboard with the following keys: \n",
    "\n",
    "Key 1:  Prints 'A' on screen\n",
    "\n",
    "Key 2: (Ctrl-A): Select screen\n",
    "\n",
    "Key 3: (Ctrl-C): Copy selection to buffer\n",
    "\n",
    "Key 4: (Ctrl-V): Print buffer on screen appending it after what has already been printed.\n",
    "\n",
    "Find maximum numbers of A's that can be produced by pressing keys on the special keyboard N times. \n",
    "\n",
    "\n",
    "Example 1:\n",
    "\n",
    "Input: N = 3\n",
    "\n",
    "Output: 3\n",
    "\n",
    "Explaination: Press key 1 three times.\n",
    "\n",
    "Example 2:\n",
    "\n",
    "Input: N = 7\n",
    "\n",
    "Output: 9\n",
    "\n",
    "Explaination: The best key sequence is \n",
    "key 1, key 1, key 1, key 2, key 3,\n",
    "key4, key 4."
   ]
  },
  {
   "cell_type": "code",
   "execution_count": 5,
   "id": "3751d42f",
   "metadata": {},
   "outputs": [
    {
     "data": {
      "text/plain": [
       "3"
      ]
     },
     "execution_count": 5,
     "metadata": {},
     "output_type": "execute_result"
    }
   ],
   "source": [
    "class Solution:\n",
    "    def optimalKeys(self, N):\n",
    "        # code here\n",
    "        if N<=6:\n",
    "            return N\n",
    "        dp=[0 for i in range(N+1)]\n",
    "        for i in range(1,7):\n",
    "            dp[i]=i\n",
    "        for i in range(7,N+1):\n",
    "            for j in range(i-3,0,-1):\n",
    "                cur=dp[j]*(i-j-1)\n",
    "                if cur>dp[i]:\n",
    "                    dp[i]=cur\n",
    "        return dp[N] \n",
    "\n",
    "N = 3\n",
    "\n",
    "obj = Solution()\n",
    "obj.optimalKeys(N)"
   ]
  },
  {
   "cell_type": "code",
   "execution_count": null,
   "id": "d700cc65",
   "metadata": {},
   "outputs": [],
   "source": []
  }
 ],
 "metadata": {
  "kernelspec": {
   "display_name": "Python 3 (ipykernel)",
   "language": "python",
   "name": "python3"
  },
  "language_info": {
   "codemirror_mode": {
    "name": "ipython",
    "version": 3
   },
   "file_extension": ".py",
   "mimetype": "text/x-python",
   "name": "python",
   "nbconvert_exporter": "python",
   "pygments_lexer": "ipython3",
   "version": "3.9.12"
  }
 },
 "nbformat": 4,
 "nbformat_minor": 5
}
